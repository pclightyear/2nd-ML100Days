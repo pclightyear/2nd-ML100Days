{
 "cells": [
  {
   "cell_type": "markdown",
   "metadata": {},
   "source": [
    "## 練習時間\n",
    "在小量的資料上，我們用眼睛就可以看得出來程式碼是否有跑出我們理想中的結果\n",
    "\n",
    "請嘗試想像一個你需要的資料結構 (裡面的值可以是隨機的)，然後用上述的方法把它變成 pandas DataFrame\n",
    "\n",
    "#### Ex: 想像一個 dataframe 有兩個欄位，一個是國家，一個是人口，求人口數最多的國家\n",
    "\n",
    "### Hints: [隨機產生數值](https://blog.csdn.net/christianashannon/article/details/78867204)\n",
    "#### Notes: [zip function in python 3](https://docs.python.org/3/library/functions.html#zip)\n",
    "#### Notes: [dict declaration in python 3](https://docs.python.org/3/library/stdtypes.html#dict)"
   ]
  },
  {
   "cell_type": "code",
   "execution_count": 4,
   "metadata": {},
   "outputs": [],
   "source": [
    "import pandas as pd\n",
    "import numpy as np"
   ]
  },
  {
   "cell_type": "code",
   "execution_count": 32,
   "metadata": {},
   "outputs": [],
   "source": [
    "country = ['El Salvador', 'Mozambique', 'Slovenia', 'Zimbabwe']\n",
    "population = np.random.randint(10 ** 6, 10 ** 8, size=4)\n",
    "\n",
    "labels = ['country', 'population']\n",
    "cols = [country, population]\n",
    "\n",
    "zipped = list(zip(labels, cols))\n",
    "data = pd.DataFrame(dict(zipped))"
   ]
  },
  {
   "cell_type": "code",
   "execution_count": 41,
   "metadata": {},
   "outputs": [
    {
     "name": "stdout",
     "output_type": "stream",
     "text": [
      "       country  population\n",
      "0  El Salvador    77748620\n",
      "1   Mozambique    19446184\n",
      "2     Slovenia    82056957\n",
      "3     Zimbabwe    39213208\n",
      "----------------------------\n",
      "Slovenia\n"
     ]
    }
   ],
   "source": [
    "print(data)\n",
    "print('----------------------------')\n",
    "print(data['country'][data['population'].idxmax()])"
   ]
  },
  {
   "cell_type": "code",
   "execution_count": null,
   "metadata": {},
   "outputs": [],
   "source": []
  }
 ],
 "metadata": {
  "kernelspec": {
   "display_name": "Python 3",
   "language": "python",
   "name": "python3"
  },
  "language_info": {
   "codemirror_mode": {
    "name": "ipython",
    "version": 3
   },
   "file_extension": ".py",
   "mimetype": "text/x-python",
   "name": "python",
   "nbconvert_exporter": "python",
   "pygments_lexer": "ipython3",
   "version": "3.6.5"
  }
 },
 "nbformat": 4,
 "nbformat_minor": 2
}
