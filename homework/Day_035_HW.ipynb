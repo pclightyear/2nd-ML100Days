{
 "cells": [
  {
   "cell_type": "markdown",
   "metadata": {},
   "source": [
    "## 練習時間\n",
    "相信大家對回歸問題及分類問題都有初步的了解。今天的作業希望大家搜尋有關 multi-label 的案例問題。下圖是電影 \"奇異博士\" 的分類。可以看到同時有 \"Action\", \"Adventure\", \"Fantasy\" 的類別存在，代表這是個多標籤的問題。 "
   ]
  },
  {
   "cell_type": "markdown",
   "metadata": {},
   "source": [
    "![image](https://cdn-images-1.medium.com/max/1000/1*r0gYXMSQf5VhdMyl2bRDyg.png)"
   ]
  },
  {
   "cell_type": "markdown",
   "metadata": {},
   "source": [
    "## 請搜尋目標為多標籤問題 (Multi-label) 的機器學習案例，了解其資料來源、目標以及評估指標為何\n",
    "## Hint: 服飾"
   ]
  },
  {
   "cell_type": "markdown",
   "metadata": {},
   "source": [
    "## [2017 知乎看山杯機器學習挑戰賽](https://biendata.com/competition/zhihu/)\n",
    "\n",
    "### 1. 目標\n",
    "\n",
    "對知乎上的內容(文本)進行精准的自動化話題標注，提升知乎的使用者體驗和提高內容分發效率。\n",
    "\n",
    "### 2. 資料來源\n",
    "\n",
    "根據知乎給出的問題及話題標籤的綁定關係的訓練資料，訓練出對未標注資料自動標注的模型。\n",
    "\n",
    "由於涉及到使用者隱私及資料安全等問題，比賽不提供問題、話題描述的原始文本，而是使用字元編號及切詞後的詞語編號來表示文本資訊。\n",
    "\n",
    "\n",
    "### 3. 評估指標\n",
    "\n",
    "把訓練好的模型，套用在評測資料集的問題上，並標注 Top 5 的話題標籤。預測出的話題標籤之間存在順序。\n",
    "\n",
    "準確率: 預測出的標籤命中了標注標籤中的任何一個即視為正確。最終的準確率為每個位置上的準確率按位置加權。"
   ]
  },
  {
   "cell_type": "code",
   "execution_count": null,
   "metadata": {},
   "outputs": [],
   "source": []
  }
 ],
 "metadata": {
  "kernelspec": {
   "display_name": "Python 3",
   "language": "python",
   "name": "python3"
  },
  "language_info": {
   "codemirror_mode": {
    "name": "ipython",
    "version": 3
   },
   "file_extension": ".py",
   "mimetype": "text/x-python",
   "name": "python",
   "nbconvert_exporter": "python",
   "pygments_lexer": "ipython3",
   "version": "3.6.5"
  }
 },
 "nbformat": 4,
 "nbformat_minor": 2
}
